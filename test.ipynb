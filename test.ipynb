{
 "cells": [
  {
   "cell_type": "code",
   "execution_count": null,
   "metadata": {},
   "outputs": [],
   "source": [
    "import os\n",
    "\n",
    "def rename_files(path):\n",
    "    for root, dirs, files in os.walk(path):\n",
    "        for name in files:\n",
    "            # 获取文件的后缀\n",
    "            file_extension = os.path.splitext(name)[1]\n",
    "\n",
    "            # 如果文件名中包含大写字母，则进行转换\n",
    "            if any(c.isupper() for c in name):\n",
    "                # 构建新的文件名\n",
    "                new_name = name.lower()\n",
    "\n",
    "                # 如果新的文件名与旧的文件名相同，则不进行重命名\n",
    "                if new_name == name:\n",
    "                    continue\n",
    "\n",
    "                # 重命名文件\n",
    "                os.rename(os.path.join(root, name), os.path.join(root, new_name))\n",
    "\n",
    "                # 如果文件有后缀，则同时修改后缀\n",
    "                if file_extension:\n",
    "                    new_extension = file_extension.lower()\n",
    "                    os.rename(os.path.join(root, new_name), os.path.join(root, new_name.replace(file_extension, new_extension)))\n",
    "\n",
    "        for name in dirs:\n",
    "            # 如果文件夹名中包含大写字母，则进行转换\n",
    "            if any(c.isupper() for c in name):\n",
    "                # 构建新的文件夹名\n",
    "                new_name = name.lower()\n",
    "\n",
    "                # 如果新的文件夹名与旧的文件夹名相同，则不进行重命名\n",
    "                if new_name == name:\n",
    "                    continue\n",
    "\n",
    "                # 重命名文件夹\n",
    "                os.rename(os.path.join(root, name), os.path.join(root, new_name))\n",
    "\n",
    "# 调用函数，传入要处理的目录路径\n",
    "rename_files('X:\\Directory\\code\\dataset\\TIMIT_sinc')"
   ]
  },
  {
   "cell_type": "code",
   "execution_count": null,
   "metadata": {},
   "outputs": [],
   "source": [
    "import numpy as np\n",
    "\n",
    "a = np.load('X:\\Directory\\code\\DeafBackdoor_SincNet\\data_lists\\TIMIT_labels.npy',allow_pickle=True)\n",
    "print(a)"
   ]
  },
  {
   "cell_type": "code",
   "execution_count": null,
   "metadata": {},
   "outputs": [],
   "source": [
    "drop = [0,1,0]\n"
   ]
  },
  {
   "cell_type": "code",
   "execution_count": 2,
   "metadata": {},
   "outputs": [],
   "source": [
    "# 打开文件\n",
    "file_path = 'data_lists/libri_te.scp'\n",
    "with open(file_path, 'r') as file:\n",
    "    # 读取文件内容\n",
    "    content = file.read()\n",
    "content1 = content.split(\"\\n\")\n",
    "# 打印文件内容\n",
    "#print(content1)\n",
    "content2 = ''\n",
    "for i in range(len(content1)):\n",
    "    if i % 3 == 0:\n",
    "        content2 = content2 + content1[i] + '\\n'\n",
    "# 创建并打开文件\n",
    "file_savepath = 'data_lists/libri_te_462.scp'\n",
    "with open(file_savepath, 'w') as file:\n",
    "    # 将字符串写入文件\n",
    "    file.write(content2)"
   ]
  },
  {
   "cell_type": "code",
   "execution_count": 1,
   "metadata": {},
   "outputs": [
    {
     "name": "stdout",
     "output_type": "stream",
     "text": [
      "10\n"
     ]
    }
   ],
   "source": [
    "output_folder='exp/'\n",
    "wandb_name='AAA_1-10'\n",
    "\n",
    "# 获取wandb_name的最后两个字符\n",
    "last_two_chars = wandb_name[-2:]\n",
    "\n",
    "# 构建保存文件的路径\n",
    "file_path = output_folder + 'drop_neuro' + '.txt'\n",
    "\n",
    "# 写入文件\n",
    "with open(file_path, 'w') as file:\n",
    "    file.write(last_two_chars)\n",
    "\n",
    "# 下次可以直接打开文件读取\n",
    "with open(file_path, 'r') as file:\n",
    "    contents = file.read()\n",
    "    print(contents)\n"
   ]
  },
  {
   "cell_type": "code",
   "execution_count": 1,
   "metadata": {},
   "outputs": [
    {
     "name": "stdout",
     "output_type": "stream",
     "text": [
      "[673, 392, 549, 501, 614, 199, 430, 889, 1244, 1328, 589, 506, 1748, 1694, 1631, 581, 573, 1437, 267, 1581, 568, 2009, 1877, 1339, 1011, 2043, 1036, 373, 1950, 178, 504, 1677, 1014, 1523, 198, 666, 1433, 249, 1401, 493, 522, 1517, 729, 987, 1482, 1103, 1315, 1540, 914, 323]\n"
     ]
    }
   ],
   "source": [
    "import random\n",
    "\n",
    "random_numbers = random.sample(range(2048), 50)\n",
    "print(random_numbers)"
   ]
  }
 ],
 "metadata": {
  "kernelspec": {
   "display_name": "Python 3 (ipykernel)",
   "language": "python",
   "name": "python3"
  },
  "language_info": {
   "codemirror_mode": {
    "name": "ipython",
    "version": 3
   },
   "file_extension": ".py",
   "mimetype": "text/x-python",
   "name": "python",
   "nbconvert_exporter": "python",
   "pygments_lexer": "ipython3",
   "version": "3.6.13"
  },
  "vscode": {
   "interpreter": {
    "hash": "d66e69d5822c617b0af9569a00c8e2233d69a898383c90dad9bd8b95cb6cdb8d"
   }
  }
 },
 "nbformat": 4,
 "nbformat_minor": 4
}
