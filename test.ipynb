{
 "cells": [
  {
   "cell_type": "code",
   "execution_count": 3,
   "metadata": {},
   "outputs": [],
   "source": [
    "import os\n",
    "\n",
    "def rename_files(path):\n",
    "    for root, dirs, files in os.walk(path):\n",
    "        for name in files:\n",
    "            # 获取文件的后缀\n",
    "            file_extension = os.path.splitext(name)[1]\n",
    "\n",
    "            # 如果文件名中包含大写字母，则进行转换\n",
    "            if any(c.isupper() for c in name):\n",
    "                # 构建新的文件名\n",
    "                new_name = name.lower()\n",
    "\n",
    "                # 如果新的文件名与旧的文件名相同，则不进行重命名\n",
    "                if new_name == name:\n",
    "                    continue\n",
    "\n",
    "                # 重命名文件\n",
    "                os.rename(os.path.join(root, name), os.path.join(root, new_name))\n",
    "\n",
    "                # 如果文件有后缀，则同时修改后缀\n",
    "                if file_extension:\n",
    "                    new_extension = file_extension.lower()\n",
    "                    os.rename(os.path.join(root, new_name), os.path.join(root, new_name.replace(file_extension, new_extension)))\n",
    "\n",
    "        for name in dirs:\n",
    "            # 如果文件夹名中包含大写字母，则进行转换\n",
    "            if any(c.isupper() for c in name):\n",
    "                # 构建新的文件夹名\n",
    "                new_name = name.lower()\n",
    "\n",
    "                # 如果新的文件夹名与旧的文件夹名相同，则不进行重命名\n",
    "                if new_name == name:\n",
    "                    continue\n",
    "\n",
    "                # 重命名文件夹\n",
    "                os.rename(os.path.join(root, name), os.path.join(root, new_name))\n",
    "\n",
    "# 调用函数，传入要处理的目录路径\n",
    "rename_files('X:\\Directory\\code\\dataset\\TIMIT_sinc')"
   ]
  }
 ],
 "metadata": {
  "kernelspec": {
   "display_name": "sincnet",
   "language": "python",
   "name": "python3"
  },
  "language_info": {
   "codemirror_mode": {
    "name": "ipython",
    "version": 3
   },
   "file_extension": ".py",
   "mimetype": "text/x-python",
   "name": "python",
   "nbconvert_exporter": "python",
   "pygments_lexer": "ipython3",
   "version": "3.6.13"
  },
  "orig_nbformat": 4
 },
 "nbformat": 4,
 "nbformat_minor": 2
}
