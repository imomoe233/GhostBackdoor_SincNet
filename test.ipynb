{
 "cells": [
  {
   "cell_type": "code",
   "execution_count": null,
   "metadata": {},
   "outputs": [],
   "source": [
    "import os\n",
    "\n",
    "def rename_files(path):\n",
    "    for root, dirs, files in os.walk(path):\n",
    "        for name in files:\n",
    "            # 获取文件的后缀\n",
    "            file_extension = os.path.splitext(name)[1]\n",
    "\n",
    "            # 如果文件名中包含大写字母，则进行转换\n",
    "            if any(c.isupper() for c in name):\n",
    "                # 构建新的文件名\n",
    "                new_name = name.lower()\n",
    "\n",
    "                # 如果新的文件名与旧的文件名相同，则不进行重命名\n",
    "                if new_name == name:\n",
    "                    continue\n",
    "\n",
    "                # 重命名文件\n",
    "                os.rename(os.path.join(root, name), os.path.join(root, new_name))\n",
    "\n",
    "                # 如果文件有后缀，则同时修改后缀\n",
    "                if file_extension:\n",
    "                    new_extension = file_extension.lower()\n",
    "                    os.rename(os.path.join(root, new_name), os.path.join(root, new_name.replace(file_extension, new_extension)))\n",
    "\n",
    "        for name in dirs:\n",
    "            # 如果文件夹名中包含大写字母，则进行转换\n",
    "            if any(c.isupper() for c in name):\n",
    "                # 构建新的文件夹名\n",
    "                new_name = name.lower()\n",
    "\n",
    "                # 如果新的文件夹名与旧的文件夹名相同，则不进行重命名\n",
    "                if new_name == name:\n",
    "                    continue\n",
    "\n",
    "                # 重命名文件夹\n",
    "                os.rename(os.path.join(root, name), os.path.join(root, new_name))\n",
    "\n",
    "# 调用函数，传入要处理的目录路径\n",
    "rename_files('X:\\Directory\\code\\dataset\\TIMIT_sinc')"
   ]
  },
  {
   "cell_type": "code",
   "execution_count": null,
   "metadata": {},
   "outputs": [],
   "source": [
    "import numpy as np\n",
    "\n",
    "a = np.load('X:\\Directory\\code\\DeafBackdoor_SincNet\\data_lists\\TIMIT_labels.npy',allow_pickle=True)\n",
    "print(a)"
   ]
  },
  {
   "cell_type": "code",
   "execution_count": null,
   "metadata": {},
   "outputs": [],
   "source": [
    "drop = [0,1,0]\n"
   ]
  },
  {
   "cell_type": "code",
   "execution_count": 1,
   "metadata": {},
   "outputs": [
    {
     "name": "stdout",
     "output_type": "stream",
     "text": [
      "蔡徐坤是黄家鹏的哥哥\n"
     ]
    }
   ],
   "source": [
    "print(\"蔡徐坤是黄家鹏的哥哥\")"
   ]
  }
 ],
 "metadata": {
  "kernelspec": {
   "display_name": "Python 3.6.13 ('sincnet')",
   "language": "python",
   "name": "python3"
  },
  "language_info": {
   "codemirror_mode": {
    "name": "ipython",
    "version": 3
   },
   "file_extension": ".py",
   "mimetype": "text/x-python",
   "name": "python",
   "nbconvert_exporter": "python",
   "pygments_lexer": "ipython3",
   "version": "3.6.13"
  },
  "orig_nbformat": 4,
  "vscode": {
   "interpreter": {
    "hash": "d66e69d5822c617b0af9569a00c8e2233d69a898383c90dad9bd8b95cb6cdb8d"
   }
  }
 },
 "nbformat": 4,
 "nbformat_minor": 2
}
